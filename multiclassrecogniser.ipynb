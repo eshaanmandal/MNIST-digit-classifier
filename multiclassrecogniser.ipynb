{
 "metadata": {
  "language_info": {
   "codemirror_mode": {
    "name": "ipython",
    "version": 3
   },
   "file_extension": ".py",
   "mimetype": "text/x-python",
   "name": "python",
   "nbconvert_exporter": "python",
   "pygments_lexer": "ipython3",
   "version": "3.8.5-final"
  },
  "orig_nbformat": 2,
  "kernelspec": {
   "name": "python3",
   "display_name": "Python 3",
   "language": "python"
  }
 },
 "nbformat": 4,
 "nbformat_minor": 2,
 "cells": [
  {
   "cell_type": "code",
   "execution_count": 4,
   "metadata": {},
   "outputs": [],
   "source": [
    "#All the necessary libraries \n",
    "from sklearn.datasets import fetch_openml\n",
    "from sklearn.linear_model import SGDClassifier\n",
    "from sklearn.metrics import confusion_matrix"
   ]
  },
  {
   "cell_type": "code",
   "execution_count": 2,
   "metadata": {},
   "outputs": [],
   "source": [
    "#Importing the datasets and dividing it into training and testing data\n",
    "mnist=fetch_openml('mnist_784', version=1)\n",
    "X=mnist['data']\n",
    "y=mnist['target']\n",
    "X_train, X_test, y_train, y_test=X[:60000], X[60000:], y[:60000], y[60000:]"
   ]
  },
  {
   "cell_type": "code",
   "execution_count": 3,
   "metadata": {},
   "outputs": [
    {
     "output_type": "execute_result",
     "data": {
      "text/plain": [
       "SGDClassifier(random_state=42)"
      ]
     },
     "metadata": {},
     "execution_count": 3
    }
   ],
   "source": [
    "#We would be using stochastic gradient descent classifier, for this we need to import and train it\n",
    "sgd_clf=SGDClassifier(random_state=42)\n",
    "sgd_clf.fit(X_train, y_train)"
   ]
  },
  {
   "cell_type": "code",
   "execution_count": 9,
   "metadata": {},
   "outputs": [
    {
     "output_type": "stream",
     "name": "stdout",
     "text": [
      "0.8866401587452636 0.8722016551120783\n"
     ]
    }
   ],
   "source": [
    "#For calculating the accuracy we need confusion matrix\n",
    "from sklearn.metrics import precision_score, recall_score\n",
    "y_pred=sgd_clf.predict(X_test)\n",
    "c=confusion_matrix(y_test, y_pred)\n",
    "print(precision_score(y_test, y_pred, average='macro'),recall_score(y_test, y_pred, average='macro'))"
   ]
  },
  {
   "cell_type": "code",
   "execution_count": 22,
   "metadata": {},
   "outputs": [
    {
     "output_type": "stream",
     "name": "stdout",
     "text": [
      "[[-31893.03095419 -34419.69069632  -9530.63950739   1823.73154031\n  -22320.14822878  -1385.80478895 -26188.91070951 -16147.51323997\n   -4604.35491274 -12050.767298  ]]\n"
     ]
    }
   ],
   "source": [
    "#lets check the decision function and get the scores\n",
    "\n",
    "some_digit=X[0]\n",
    "\n",
    "y_scores=sgd_clf.decision_function([some_digit])\n",
    "print(y_scores)"
   ]
  },
  {
   "cell_type": "code",
   "execution_count": 26,
   "metadata": {},
   "outputs": [
    {
     "output_type": "stream",
     "name": "stdout",
     "text": [
      "['5']\n"
     ]
    }
   ],
   "source": [
    "#Training a random forestb classifier\n",
    "from sklearn.ensemble import RandomForestClassifier\n",
    "rndm_forest=RandomForestClassifier(random_state=42)\n",
    "rndm_forest.fit(X_train, y_train)\n",
    "print(rndm_forest.predict([some_digit]))"
   ]
  },
  {
   "cell_type": "code",
   "execution_count": 28,
   "metadata": {},
   "outputs": [
    {
     "output_type": "stream",
     "name": "stdout",
     "text": [
      "[[0.   0.   0.01 0.08 0.   0.9  0.   0.   0.   0.01]]\n"
     ]
    }
   ],
   "source": [
    "print(rndm_forest.predict_proba([some_digit]))\n",
    "#It better than sgd_clf"
   ]
  },
  {
   "cell_type": "code",
   "execution_count": 30,
   "metadata": {},
   "outputs": [
    {
     "output_type": "stream",
     "name": "stdout",
     "text": [
      "[0.9646  0.96255 0.9666 ]\n"
     ]
    }
   ],
   "source": [
    "cross_validation_score=cross_val_score(rndm_forest, X_train, y_train, cv=3, scoring=\"accuracy\")\n",
    "print(cross_validation_score)"
   ]
  },
  {
   "cell_type": "code",
   "execution_count": null,
   "metadata": {},
   "outputs": [],
   "source": []
  }
 ]
}