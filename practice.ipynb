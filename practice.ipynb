{
 "cells": [
  {
   "cell_type": "code",
   "execution_count": 12,
   "metadata": {},
   "outputs": [],
   "source": [
    "# We would try to keep this notebook short and simple and would avoid unecessary\n",
    "# models and stuff we would work on cross-validation, and cloning,\n",
    "# some topics like pipelines and custom transformers are not very clear to me from the \n",
    "# previous topic so it's better to focus on the ones i am able to understand,\n",
    "# pipelines and rest complicated stuff i would understand when revising chapter 2, for now focus on simple MNIST\n",
    "\n",
    "#Lets import the important libraries\n",
    "from sklearn.datasets import fetch_openml #for the mnist dataset\n",
    "import numpy as np #numpy for arrays\n",
    "import matplotlib.pyplot as plt #for graphs and other plots\n",
    "from sklearn.model_selection import cross_val_score, cross_val_predict #helps in cross validation \n",
    "from sklearn.metrics import multilabel_confusion_matrix, confusion_matrix #calculating the confusion matrix\n",
    "from sklearn.linear_model import SGDClassifier #Stochastic gradient classifier"
   ]
  },
  {
   "cell_type": "code",
   "execution_count": 6,
   "metadata": {},
   "outputs": [],
   "source": [
    "#Getting the data from open_ml and splitting it into training and testing data\n",
    "MNIST=fetch_openml('mnist_784', version=1)\n",
    "X=MNIST['data']\n",
    "y=MNIST['target']\n",
    "X_train, X_test, y_train, y_test=X[:60000],X[60000:],y[:60000],y[60000:]"
   ]
  },
  {
   "cell_type": "code",
   "execution_count": null,
   "metadata": {},
   "outputs": [],
   "source": []
  }
 ],
 "metadata": {
  "kernelspec": {
   "display_name": "Python 3",
   "language": "python",
   "name": "python3"
  },
  "language_info": {
   "codemirror_mode": {
    "name": "ipython",
    "version": 3
   },
   "file_extension": ".py",
   "mimetype": "text/x-python",
   "name": "python",
   "nbconvert_exporter": "python",
   "pygments_lexer": "ipython3",
   "version": "3.8.5"
  }
 },
 "nbformat": 4,
 "nbformat_minor": 2
}
